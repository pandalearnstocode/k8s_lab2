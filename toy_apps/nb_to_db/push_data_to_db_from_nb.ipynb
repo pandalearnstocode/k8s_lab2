{
 "cells": [
  {
   "cell_type": "code",
   "execution_count": 1,
   "metadata": {},
   "outputs": [],
   "source": [
    "# ref: https://gist.github.com/amotl/8727ea2aa6e46c5b51a34c28b767d72c\n",
    "import pandas as pd\n",
    "\n",
    "df = pd.DataFrame(\n",
    "        {\n",
    "            \"station_id\": pd.Categorical([\"00001\"]),\n",
    "            #\"date\": [pd.Timestamp(\"1970-01-01\").tz_localize(\"UTC\")],\n",
    "            \"date\": [pd.Timestamp(\"1970-01-01\")],\n",
    "            \"qn\": pd.Series([1], dtype=pd.Int64Dtype()),\n",
    "            \"rs_indicator\": pd.Series([1], dtype=pd.Int64Dtype()),\n",
    "            \"label\": pd.Series([\"P\"], dtype=pd.StringDtype()),\n",
    "        }\n",
    "    )\n",
    "\n",
    "\n",
    "def pandas_to_sql(dburi):\n",
    "    df.to_sql(\n",
    "        con=dburi,\n",
    "        name=\"testdrive\",\n",
    "        if_exists=\"replace\",\n",
    "        index=False,\n",
    "        #method=\"multi\",\n",
    "        chunksize=5000,\n",
    "    )\n"
   ]
  },
  {
   "cell_type": "code",
   "execution_count": 2,
   "metadata": {},
   "outputs": [
    {
     "data": {
      "text/html": [
       "<div>\n",
       "<style scoped>\n",
       "    .dataframe tbody tr th:only-of-type {\n",
       "        vertical-align: middle;\n",
       "    }\n",
       "\n",
       "    .dataframe tbody tr th {\n",
       "        vertical-align: top;\n",
       "    }\n",
       "\n",
       "    .dataframe thead th {\n",
       "        text-align: right;\n",
       "    }\n",
       "</style>\n",
       "<table border=\"1\" class=\"dataframe\">\n",
       "  <thead>\n",
       "    <tr style=\"text-align: right;\">\n",
       "      <th></th>\n",
       "      <th>station_id</th>\n",
       "      <th>date</th>\n",
       "      <th>qn</th>\n",
       "      <th>rs_indicator</th>\n",
       "      <th>label</th>\n",
       "    </tr>\n",
       "  </thead>\n",
       "  <tbody>\n",
       "    <tr>\n",
       "      <th>0</th>\n",
       "      <td>00001</td>\n",
       "      <td>1970-01-01</td>\n",
       "      <td>1</td>\n",
       "      <td>1</td>\n",
       "      <td>P</td>\n",
       "    </tr>\n",
       "  </tbody>\n",
       "</table>\n",
       "</div>"
      ],
      "text/plain": [
       "  station_id       date  qn  rs_indicator label\n",
       "0      00001 1970-01-01   1             1     P"
      ]
     },
     "execution_count": 2,
     "metadata": {},
     "output_type": "execute_result"
    }
   ],
   "source": [
    "df"
   ]
  },
  {
   "cell_type": "code",
   "execution_count": 3,
   "metadata": {},
   "outputs": [],
   "source": [
    "pandas_to_sql(dburi=\"postgresql://postgres@localhost/dwd\")"
   ]
  },
  {
   "cell_type": "code",
   "execution_count": 4,
   "metadata": {},
   "outputs": [],
   "source": []
  },
  {
   "cell_type": "code",
   "execution_count": null,
   "metadata": {},
   "outputs": [],
   "source": []
  }
 ],
 "metadata": {
  "interpreter": {
   "hash": "261c8269d903375ba21d03a018e87d079a22ad8a7c701a07021d4f36ca624f1a"
  },
  "kernelspec": {
   "display_name": "Python 3.8.8 64-bit ('base': conda)",
   "language": "python",
   "name": "python3"
  },
  "language_info": {
   "codemirror_mode": {
    "name": "ipython",
    "version": 3
   },
   "file_extension": ".py",
   "mimetype": "text/x-python",
   "name": "python",
   "nbconvert_exporter": "python",
   "pygments_lexer": "ipython3",
   "version": "3.8.12"
  },
  "orig_nbformat": 4
 },
 "nbformat": 4,
 "nbformat_minor": 2
}
